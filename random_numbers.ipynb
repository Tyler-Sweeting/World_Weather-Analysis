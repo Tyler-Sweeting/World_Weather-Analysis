{
 "cells": [
  {
   "cell_type": "code",
   "execution_count": 1,
   "id": "ab06622a",
   "metadata": {},
   "outputs": [],
   "source": [
    "# Import the random module.\n",
    "import random\n"
   ]
  },
  {
   "cell_type": "code",
   "execution_count": 5,
   "id": "0f382207",
   "metadata": {},
   "outputs": [
    {
     "data": {
      "text/plain": [
       "-79"
      ]
     },
     "execution_count": 5,
     "metadata": {},
     "output_type": "execute_result"
    }
   ],
   "source": [
    "random.randint(-90,90)"
   ]
  },
  {
   "cell_type": "code",
   "execution_count": 6,
   "id": "1bf4d059",
   "metadata": {},
   "outputs": [
    {
     "data": {
      "text/plain": [
       "0.15712549372217066"
      ]
     },
     "execution_count": 6,
     "metadata": {},
     "output_type": "execute_result"
    }
   ],
   "source": [
    "random.random()"
   ]
  },
  {
   "cell_type": "code",
   "execution_count": 7,
   "id": "38a54191",
   "metadata": {},
   "outputs": [],
   "source": [
    "x = 1\n",
    "latitudes = []\n",
    "while x < 11:\n",
    "    random_lat = random.randint(-90, 89) + random.random()\n",
    "    latitudes.append(random_lat)\n",
    "    x += 1"
   ]
  },
  {
   "cell_type": "code",
   "execution_count": 10,
   "id": "336d0619",
   "metadata": {},
   "outputs": [
    {
     "data": {
      "text/plain": [
       "[59.48242527903767,\n",
       " -28.302702119156297,\n",
       " -12.736665953203739,\n",
       " 48.21661531862269,\n",
       " -82.04083064367384,\n",
       " -58.0079057349209,\n",
       " -10.965741692049342,\n",
       " -61.54529816927857,\n",
       " -24.255117447674834,\n",
       " -59.67165245166211]"
      ]
     },
     "execution_count": 10,
     "metadata": {},
     "output_type": "execute_result"
    }
   ],
   "source": [
    "latitudes"
   ]
  },
  {
   "cell_type": "code",
   "execution_count": 14,
   "id": "378e2a9d",
   "metadata": {},
   "outputs": [
    {
     "data": {
      "text/plain": [
       "-41.719518543336"
      ]
     },
     "execution_count": 14,
     "metadata": {},
     "output_type": "execute_result"
    }
   ],
   "source": [
    "random.uniform(-90,90)"
   ]
  },
  {
   "cell_type": "code",
   "execution_count": 15,
   "id": "8953fe28",
   "metadata": {},
   "outputs": [],
   "source": [
    "# Import the NumPy module.\n",
    "import numpy as np"
   ]
  },
  {
   "cell_type": "code",
   "execution_count": 16,
   "id": "7fdccca1",
   "metadata": {},
   "outputs": [
    {
     "data": {
      "text/plain": [
       "6.3251289853212"
      ]
     },
     "execution_count": 16,
     "metadata": {},
     "output_type": "execute_result"
    }
   ],
   "source": [
    "np.random.uniform(-90.000, 90.000)"
   ]
  },
  {
   "cell_type": "code",
   "execution_count": 17,
   "id": "f8bbe6d0",
   "metadata": {},
   "outputs": [
    {
     "data": {
      "text/plain": [
       "array([ 79.16492869, -83.30893045,  36.92580784,  71.37755544,\n",
       "        -6.86596354,  -6.13792502, -57.20269385,  75.22631853,\n",
       "       -40.75650301, -36.84746417, -85.47814385, -52.21588461,\n",
       "       -57.56859802,  49.89088909, -71.46496744,  -2.20295901,\n",
       "       -20.54888124,  -1.60041651, -89.06766724,  -5.0654086 ,\n",
       "       -70.80391317, -65.69453609, -28.10109499,  29.09438087,\n",
       "       -73.66734678,   7.75845894, -24.52186479, -14.9276107 ,\n",
       "       -70.59380406,  85.0775145 , -49.35973994,  72.27727492,\n",
       "       -17.07967989,  -6.28389565,  89.38574991,  57.89233703,\n",
       "       -40.81831467,  20.60030457,   3.06875976,  68.60875876,\n",
       "       -42.82944446, -69.61185598,  88.85809705,  17.09084049,\n",
       "       -56.72088032, -23.88213552, -53.18192706,  -9.91398767,\n",
       "         6.54354992, -55.45211071])"
      ]
     },
     "execution_count": 17,
     "metadata": {},
     "output_type": "execute_result"
    }
   ],
   "source": [
    "np.random.uniform(-90.000, 90.000, size=50)"
   ]
  },
  {
   "cell_type": "code",
   "execution_count": 18,
   "id": "a684c94d",
   "metadata": {},
   "outputs": [],
   "source": [
    "# Import timeit.\n",
    "import timeit"
   ]
  },
  {
   "cell_type": "code",
   "execution_count": 19,
   "id": "f269b30a",
   "metadata": {},
   "outputs": [
    {
     "name": "stdout",
     "output_type": "stream",
     "text": [
      "12.2 µs ± 58.4 ns per loop (mean ± std. dev. of 7 runs, 100000 loops each)\n"
     ]
    }
   ],
   "source": [
    "%timeit np.random.uniform(-90.000, 90.000, size=1500)"
   ]
  },
  {
   "cell_type": "code",
   "execution_count": null,
   "id": "cfce35cd",
   "metadata": {},
   "outputs": [],
   "source": []
  }
 ],
 "metadata": {
  "kernelspec": {
   "display_name": "PythonData",
   "language": "python",
   "name": "pythondata"
  },
  "language_info": {
   "codemirror_mode": {
    "name": "ipython",
    "version": 3
   },
   "file_extension": ".py",
   "mimetype": "text/x-python",
   "name": "python",
   "nbconvert_exporter": "python",
   "pygments_lexer": "ipython3",
   "version": "3.9.13"
  }
 },
 "nbformat": 4,
 "nbformat_minor": 5
}
